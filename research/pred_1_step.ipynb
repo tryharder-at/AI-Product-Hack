{
 "cells": [
  {
   "cell_type": "code",
   "execution_count": 2,
   "metadata": {},
   "outputs": [],
   "source": [
    "import pandas as pd\n",
    "import numpy as np\n",
    "import seaborn as sns\n",
    "import matplotlib.pyplot as plt"
   ]
  },
  {
   "cell_type": "code",
   "execution_count": 2,
   "metadata": {},
   "outputs": [],
   "source": [
    "def simple_moving_average(df, column, window):\n",
    "    df[f'{column}_SMA_{window}'] = df[column].rolling(window=window).mean()\n",
    "    return df\n",
    "\n",
    "# Пример использования:\n",
    "# df = simple_moving_average(df, 'sales', window=3)\n",
    "\n",
    "\n",
    "def weighted_moving_average(df, column, window):\n",
    "    weights = np.arange(1, window + 1)  # Веса от 1 до размера окна\n",
    "    wma = df[column].rolling(window).apply(lambda x: np.dot(x, weights)/weights.sum(), raw=True)\n",
    "    df[f'{column}_WMA_{window}'] = wma\n",
    "    return df\n",
    "\n",
    "# Пример использования:\n",
    "# df = weighted_moving_average(df, 'sales', window=3)\n",
    "\n",
    "def exponential_moving_average(df, column, span):\n",
    "    df[f'{column}_EMA_{span}'] = df[column].ewm(span=span, adjust=False).mean()\n",
    "    return df\n",
    "\n",
    "# Пример использования:\n",
    "# df = exponential_moving_average(df, 'sales', span=3)\n",
    "\n",
    "def line_plot_with_legend(df, variables):\n",
    "    # Построение линий для каждой переменной\n",
    "    plt.figure(figsize=(10, 6))\n",
    "    \n",
    "    for var in variables:\n",
    "        sns.lineplot(data=df, x=df.index, y=var, label=var)\n",
    "    \n",
    "    # Подписи осей\n",
    "    plt.xlabel('Index')\n",
    "    plt.ylabel('Values')\n",
    "    \n",
    "    # Добавляем легенду\n",
    "    plt.legend(title=\"Variables\")\n",
    "    \n",
    "    # Отображаем график\n",
    "    plt.tight_layout()\n",
    "    plt.show()\n",
    "\n",
    "import pandas as pd\n",
    "\n",
    "def calculate_mape(df, target_col, predictions_list, add=1e-10):\n",
    "    \"\"\"\n",
    "    Рассчитывает MAPE для нескольких прогнозов по отношению к таргету.\n",
    "    \n",
    "    Параметры:\n",
    "    - df: DataFrame с данными.\n",
    "    - target_col: колонка с истинными значениями (таргет).\n",
    "    - predictions_list: список названий столбцов с прогнозами.\n",
    "    - add: значение, добавляемое к таргету для избежания деления на ноль.\n",
    "    \n",
    "    Возвращает:\n",
    "    - DataFrame с названиями предсказаний и их значениями MAPE.\n",
    "    \"\"\"\n",
    "    \n",
    "    # Проверка, что таргет и прогнозы есть в DataFrame\n",
    "    if target_col not in df.columns:\n",
    "        raise ValueError(f\"Колонка с таргетом '{target_col}' не найдена в DataFrame.\")\n",
    "    \n",
    "    missing_predictions = [pred for pred in predictions_list if pred not in df.columns]\n",
    "    if missing_predictions:\n",
    "        raise ValueError(f\"Прогнозы {missing_predictions} не найдены в DataFrame.\")\n",
    "    \n",
    "    # Список для хранения MAPE для каждого прогноза\n",
    "    mape_results = []\n",
    "    \n",
    "    # Рассчет MAPE для каждого прогноза\n",
    "    for pred_col in predictions_list:\n",
    "        # MAPE = (1/n) * sum(|(y_true - y_pred)| / (y_true + add)) * 100\n",
    "        mape = (abs(df[target_col] - df[pred_col]) / (df[target_col] + add)).mean() * 100\n",
    "        mape_results.append({'Prediction': pred_col, 'MAPE': mape})\n",
    "    \n",
    "    # Возвращаем результаты в виде DataFrame\n",
    "    return pd.DataFrame(mape_results)\n"
   ]
  },
  {
   "cell_type": "code",
   "execution_count": 3,
   "metadata": {},
   "outputs": [],
   "source": [
    "shop_sales = pd.read_csv('shop_sales.csv')\n",
    "shop_sales_dates = pd.read_csv('shop_sales_dates.csv')\n",
    "shop_sales_prices = pd.read_csv('shop_sales_prices.csv')"
   ]
  },
  {
   "cell_type": "code",
   "execution_count": 4,
   "metadata": {},
   "outputs": [],
   "source": [
    "def create_lag_features(df, feature_list, min_lag, max_lag):\n",
    "    \"\"\"\n",
    "    Создает лаговые признаки\n",
    "    Параметры:\n",
    "    - df: DataFrame с исходными данными.\n",
    "    - feature_list: список колонок, для которых создаются лаги.\n",
    "    - min_lag: минимальный лаг.\n",
    "    - max_lag: максимальный лаг.\n",
    "    \n",
    "    Возвращает:\n",
    "    - DataFrame, содержащий лаги для указанных фичей.\n",
    "    \"\"\"\n",
    "    lagged_df = pd.concat(\n",
    "        [df[feature_list].shift(lag).add_suffix(f'_lag_{lag}') for lag in range(min_lag, max_lag + 1)], \n",
    "        axis=1\n",
    "    )\n",
    "    \n",
    "    return lagged_df"
   ]
  },
  {
   "cell_type": "code",
   "execution_count": 5,
   "metadata": {},
   "outputs": [],
   "source": [
    "import seaborn as sns\n",
    "import matplotlib.pyplot as plt\n",
    "\n",
    "def plot_simple_time_series(df, date_col, value_col, title=\"Time Series\", xlabel=\"Date\", ylabel=\"Value\", figsize=(10, 5)):\n",
    "    plt.figure(figsize=figsize)\n",
    "    sns.lineplot(data=df, x=date_col, y=value_col)\n",
    "    plt.title(title)\n",
    "    plt.xlabel(xlabel)\n",
    "    plt.ylabel(ylabel)\n",
    "    plt.xticks(rotation=45)\n",
    "    plt.grid(True)\n",
    "    plt.show()\n",
    "\n",
    "# Пример использования:\n",
    "# plot_simple_time_series(df, 'date', 'sales')"
   ]
  },
  {
   "cell_type": "code",
   "execution_count": 6,
   "metadata": {},
   "outputs": [],
   "source": [
    "# пример для одного sku\n",
    "id = 'STORE_2_085'"
   ]
  },
  {
   "cell_type": "code",
   "execution_count": 7,
   "metadata": {},
   "outputs": [],
   "source": [
    "# присоединяем даты и фичи из dates\n",
    "shop_sales_with_dates = pd.merge(shop_sales[shop_sales['item_id'] == id], shop_sales_dates, on = 'date_id')"
   ]
  },
  {
   "cell_type": "code",
   "execution_count": 8,
   "metadata": {},
   "outputs": [],
   "source": [
    "# присоединяем цены\n",
    "data_p = pd.merge(shop_sales_with_dates, shop_sales_prices[shop_sales_prices['item_id'] == id], on = ['wm_yr_wk'], how= 'left')"
   ]
  },
  {
   "cell_type": "code",
   "execution_count": 9,
   "metadata": {},
   "outputs": [],
   "source": [
    "## заполняем миссинги по цене если они есть\n",
    "data_p['sell_price'] = data_p['sell_price'].ffill().bfill()"
   ]
  },
  {
   "cell_type": "code",
   "execution_count": 10,
   "metadata": {},
   "outputs": [],
   "source": [
    "# создаем лаги для фичей от 1 до 3 + скользящие средние лаг 1 (поскольку предсказываем на 1 шаг) для окна 3\n",
    "\n",
    "df = simple_moving_average(data_p, 'cnt', 3)\n",
    "df = weighted_moving_average(data_p, 'cnt', 3)\n",
    "df = exponential_moving_average(data_p, 'cnt', 3)"
   ]
  },
  {
   "cell_type": "code",
   "execution_count": 11,
   "metadata": {},
   "outputs": [
    {
     "data": {
      "text/html": [
       "<div>\n",
       "<style scoped>\n",
       "    .dataframe tbody tr th:only-of-type {\n",
       "        vertical-align: middle;\n",
       "    }\n",
       "\n",
       "    .dataframe tbody tr th {\n",
       "        vertical-align: top;\n",
       "    }\n",
       "\n",
       "    .dataframe thead th {\n",
       "        text-align: right;\n",
       "    }\n",
       "</style>\n",
       "<table border=\"1\" class=\"dataframe\">\n",
       "  <thead>\n",
       "    <tr style=\"text-align: right;\">\n",
       "      <th></th>\n",
       "      <th>item_id_x</th>\n",
       "      <th>store_id_x</th>\n",
       "      <th>date_id</th>\n",
       "      <th>cnt</th>\n",
       "      <th>date</th>\n",
       "      <th>wm_yr_wk</th>\n",
       "      <th>weekday</th>\n",
       "      <th>wday</th>\n",
       "      <th>month</th>\n",
       "      <th>year</th>\n",
       "      <th>...</th>\n",
       "      <th>event_type_2</th>\n",
       "      <th>CASHBACK_STORE_1</th>\n",
       "      <th>CASHBACK_STORE_2</th>\n",
       "      <th>CASHBACK_STORE_3</th>\n",
       "      <th>store_id_y</th>\n",
       "      <th>item_id_y</th>\n",
       "      <th>sell_price</th>\n",
       "      <th>cnt_SMA_3</th>\n",
       "      <th>cnt_WMA_3</th>\n",
       "      <th>cnt_EMA_3</th>\n",
       "    </tr>\n",
       "  </thead>\n",
       "  <tbody>\n",
       "    <tr>\n",
       "      <th>0</th>\n",
       "      <td>STORE_2_085</td>\n",
       "      <td>STORE_2</td>\n",
       "      <td>1</td>\n",
       "      <td>3</td>\n",
       "      <td>2011-01-29</td>\n",
       "      <td>11101</td>\n",
       "      <td>Saturday</td>\n",
       "      <td>1</td>\n",
       "      <td>1</td>\n",
       "      <td>2011</td>\n",
       "      <td>...</td>\n",
       "      <td>NaN</td>\n",
       "      <td>0</td>\n",
       "      <td>0</td>\n",
       "      <td>0</td>\n",
       "      <td>STORE_2</td>\n",
       "      <td>STORE_2_085</td>\n",
       "      <td>1.0</td>\n",
       "      <td>NaN</td>\n",
       "      <td>NaN</td>\n",
       "      <td>3.00</td>\n",
       "    </tr>\n",
       "    <tr>\n",
       "      <th>1</th>\n",
       "      <td>STORE_2_085</td>\n",
       "      <td>STORE_2</td>\n",
       "      <td>2</td>\n",
       "      <td>8</td>\n",
       "      <td>2011-01-30</td>\n",
       "      <td>11101</td>\n",
       "      <td>Sunday</td>\n",
       "      <td>2</td>\n",
       "      <td>1</td>\n",
       "      <td>2011</td>\n",
       "      <td>...</td>\n",
       "      <td>NaN</td>\n",
       "      <td>0</td>\n",
       "      <td>0</td>\n",
       "      <td>0</td>\n",
       "      <td>STORE_2</td>\n",
       "      <td>STORE_2_085</td>\n",
       "      <td>1.0</td>\n",
       "      <td>NaN</td>\n",
       "      <td>NaN</td>\n",
       "      <td>5.50</td>\n",
       "    </tr>\n",
       "    <tr>\n",
       "      <th>2</th>\n",
       "      <td>STORE_2_085</td>\n",
       "      <td>STORE_2</td>\n",
       "      <td>3</td>\n",
       "      <td>0</td>\n",
       "      <td>2011-01-31</td>\n",
       "      <td>11101</td>\n",
       "      <td>Monday</td>\n",
       "      <td>3</td>\n",
       "      <td>1</td>\n",
       "      <td>2011</td>\n",
       "      <td>...</td>\n",
       "      <td>NaN</td>\n",
       "      <td>0</td>\n",
       "      <td>0</td>\n",
       "      <td>0</td>\n",
       "      <td>STORE_2</td>\n",
       "      <td>STORE_2_085</td>\n",
       "      <td>1.0</td>\n",
       "      <td>3.666667</td>\n",
       "      <td>3.166667</td>\n",
       "      <td>2.75</td>\n",
       "    </tr>\n",
       "  </tbody>\n",
       "</table>\n",
       "<p>3 rows × 23 columns</p>\n",
       "</div>"
      ],
      "text/plain": [
       "     item_id_x store_id_x  date_id  cnt        date  wm_yr_wk   weekday  wday  \\\n",
       "0  STORE_2_085    STORE_2        1    3  2011-01-29     11101  Saturday     1   \n",
       "1  STORE_2_085    STORE_2        2    8  2011-01-30     11101    Sunday     2   \n",
       "2  STORE_2_085    STORE_2        3    0  2011-01-31     11101    Monday     3   \n",
       "\n",
       "   month  year  ... event_type_2 CASHBACK_STORE_1 CASHBACK_STORE_2  \\\n",
       "0      1  2011  ...          NaN                0                0   \n",
       "1      1  2011  ...          NaN                0                0   \n",
       "2      1  2011  ...          NaN                0                0   \n",
       "\n",
       "  CASHBACK_STORE_3  store_id_y    item_id_y  sell_price cnt_SMA_3 cnt_WMA_3  \\\n",
       "0                0     STORE_2  STORE_2_085         1.0       NaN       NaN   \n",
       "1                0     STORE_2  STORE_2_085         1.0       NaN       NaN   \n",
       "2                0     STORE_2  STORE_2_085         1.0  3.666667  3.166667   \n",
       "\n",
       "   cnt_EMA_3  \n",
       "0       3.00  \n",
       "1       5.50  \n",
       "2       2.75  \n",
       "\n",
       "[3 rows x 23 columns]"
      ]
     },
     "execution_count": 11,
     "metadata": {},
     "output_type": "execute_result"
    }
   ],
   "source": [
    "df.head(3)"
   ]
  },
  {
   "cell_type": "code",
   "execution_count": 12,
   "metadata": {},
   "outputs": [
    {
     "data": {
      "text/html": [
       "<div>\n",
       "<style scoped>\n",
       "    .dataframe tbody tr th:only-of-type {\n",
       "        vertical-align: middle;\n",
       "    }\n",
       "\n",
       "    .dataframe tbody tr th {\n",
       "        vertical-align: top;\n",
       "    }\n",
       "\n",
       "    .dataframe thead th {\n",
       "        text-align: right;\n",
       "    }\n",
       "</style>\n",
       "<table border=\"1\" class=\"dataframe\">\n",
       "  <thead>\n",
       "    <tr style=\"text-align: right;\">\n",
       "      <th></th>\n",
       "      <th>item_id</th>\n",
       "      <th>store_id</th>\n",
       "      <th>date_id</th>\n",
       "      <th>cnt</th>\n",
       "    </tr>\n",
       "  </thead>\n",
       "  <tbody>\n",
       "    <tr>\n",
       "      <th>0</th>\n",
       "      <td>STORE_2_085</td>\n",
       "      <td>STORE_2</td>\n",
       "      <td>1</td>\n",
       "      <td>3</td>\n",
       "    </tr>\n",
       "    <tr>\n",
       "      <th>1</th>\n",
       "      <td>STORE_2_085</td>\n",
       "      <td>STORE_2</td>\n",
       "      <td>2</td>\n",
       "      <td>8</td>\n",
       "    </tr>\n",
       "    <tr>\n",
       "      <th>2</th>\n",
       "      <td>STORE_2_085</td>\n",
       "      <td>STORE_2</td>\n",
       "      <td>3</td>\n",
       "      <td>0</td>\n",
       "    </tr>\n",
       "    <tr>\n",
       "      <th>3</th>\n",
       "      <td>STORE_2_085</td>\n",
       "      <td>STORE_2</td>\n",
       "      <td>4</td>\n",
       "      <td>3</td>\n",
       "    </tr>\n",
       "    <tr>\n",
       "      <th>4</th>\n",
       "      <td>STORE_2_085</td>\n",
       "      <td>STORE_2</td>\n",
       "      <td>5</td>\n",
       "      <td>0</td>\n",
       "    </tr>\n",
       "    <tr>\n",
       "      <th>...</th>\n",
       "      <td>...</td>\n",
       "      <td>...</td>\n",
       "      <td>...</td>\n",
       "      <td>...</td>\n",
       "    </tr>\n",
       "    <tr>\n",
       "      <th>1814</th>\n",
       "      <td>STORE_2_085</td>\n",
       "      <td>STORE_2</td>\n",
       "      <td>1815</td>\n",
       "      <td>10</td>\n",
       "    </tr>\n",
       "    <tr>\n",
       "      <th>1815</th>\n",
       "      <td>STORE_2_085</td>\n",
       "      <td>STORE_2</td>\n",
       "      <td>1816</td>\n",
       "      <td>3</td>\n",
       "    </tr>\n",
       "    <tr>\n",
       "      <th>1816</th>\n",
       "      <td>STORE_2_085</td>\n",
       "      <td>STORE_2</td>\n",
       "      <td>1817</td>\n",
       "      <td>3</td>\n",
       "    </tr>\n",
       "    <tr>\n",
       "      <th>1817</th>\n",
       "      <td>STORE_2_085</td>\n",
       "      <td>STORE_2</td>\n",
       "      <td>1818</td>\n",
       "      <td>15</td>\n",
       "    </tr>\n",
       "    <tr>\n",
       "      <th>1818</th>\n",
       "      <td>STORE_2_085</td>\n",
       "      <td>STORE_2</td>\n",
       "      <td>1819</td>\n",
       "      <td>4</td>\n",
       "    </tr>\n",
       "  </tbody>\n",
       "</table>\n",
       "<p>1819 rows × 4 columns</p>\n",
       "</div>"
      ],
      "text/plain": [
       "          item_id store_id  date_id  cnt\n",
       "0     STORE_2_085  STORE_2        1    3\n",
       "1     STORE_2_085  STORE_2        2    8\n",
       "2     STORE_2_085  STORE_2        3    0\n",
       "3     STORE_2_085  STORE_2        4    3\n",
       "4     STORE_2_085  STORE_2        5    0\n",
       "...           ...      ...      ...  ...\n",
       "1814  STORE_2_085  STORE_2     1815   10\n",
       "1815  STORE_2_085  STORE_2     1816    3\n",
       "1816  STORE_2_085  STORE_2     1817    3\n",
       "1817  STORE_2_085  STORE_2     1818   15\n",
       "1818  STORE_2_085  STORE_2     1819    4\n",
       "\n",
       "[1819 rows x 4 columns]"
      ]
     },
     "execution_count": 12,
     "metadata": {},
     "output_type": "execute_result"
    }
   ],
   "source": [
    "shop_sales[shop_sales['item_id'] == id]"
   ]
  },
  {
   "cell_type": "code",
   "execution_count": 13,
   "metadata": {},
   "outputs": [],
   "source": [
    "list_for_lags = ['wday','month','CASHBACK_STORE_1','CASHBACK_STORE_2','CASHBACK_STORE_3','sell_price','cnt_SMA_3','cnt_WMA_3','cnt_EMA_3', 'cnt']"
   ]
  },
  {
   "cell_type": "code",
   "execution_count": 14,
   "metadata": {},
   "outputs": [
    {
     "data": {
      "text/html": [
       "<div>\n",
       "<style scoped>\n",
       "    .dataframe tbody tr th:only-of-type {\n",
       "        vertical-align: middle;\n",
       "    }\n",
       "\n",
       "    .dataframe tbody tr th {\n",
       "        vertical-align: top;\n",
       "    }\n",
       "\n",
       "    .dataframe thead th {\n",
       "        text-align: right;\n",
       "    }\n",
       "</style>\n",
       "<table border=\"1\" class=\"dataframe\">\n",
       "  <thead>\n",
       "    <tr style=\"text-align: right;\">\n",
       "      <th></th>\n",
       "      <th>wday</th>\n",
       "      <th>month</th>\n",
       "      <th>CASHBACK_STORE_1</th>\n",
       "      <th>CASHBACK_STORE_2</th>\n",
       "      <th>CASHBACK_STORE_3</th>\n",
       "      <th>sell_price</th>\n",
       "      <th>cnt_SMA_3</th>\n",
       "      <th>cnt_WMA_3</th>\n",
       "      <th>cnt_EMA_3</th>\n",
       "      <th>cnt</th>\n",
       "    </tr>\n",
       "  </thead>\n",
       "  <tbody>\n",
       "    <tr>\n",
       "      <th>0</th>\n",
       "      <td>1</td>\n",
       "      <td>1</td>\n",
       "      <td>0</td>\n",
       "      <td>0</td>\n",
       "      <td>0</td>\n",
       "      <td>1.00</td>\n",
       "      <td>NaN</td>\n",
       "      <td>NaN</td>\n",
       "      <td>3.000000</td>\n",
       "      <td>3</td>\n",
       "    </tr>\n",
       "    <tr>\n",
       "      <th>1</th>\n",
       "      <td>2</td>\n",
       "      <td>1</td>\n",
       "      <td>0</td>\n",
       "      <td>0</td>\n",
       "      <td>0</td>\n",
       "      <td>1.00</td>\n",
       "      <td>NaN</td>\n",
       "      <td>NaN</td>\n",
       "      <td>5.500000</td>\n",
       "      <td>8</td>\n",
       "    </tr>\n",
       "    <tr>\n",
       "      <th>2</th>\n",
       "      <td>3</td>\n",
       "      <td>1</td>\n",
       "      <td>0</td>\n",
       "      <td>0</td>\n",
       "      <td>0</td>\n",
       "      <td>1.00</td>\n",
       "      <td>3.666667</td>\n",
       "      <td>3.166667</td>\n",
       "      <td>2.750000</td>\n",
       "      <td>0</td>\n",
       "    </tr>\n",
       "    <tr>\n",
       "      <th>3</th>\n",
       "      <td>4</td>\n",
       "      <td>2</td>\n",
       "      <td>0</td>\n",
       "      <td>1</td>\n",
       "      <td>1</td>\n",
       "      <td>1.00</td>\n",
       "      <td>3.666667</td>\n",
       "      <td>2.833333</td>\n",
       "      <td>2.875000</td>\n",
       "      <td>3</td>\n",
       "    </tr>\n",
       "    <tr>\n",
       "      <th>4</th>\n",
       "      <td>5</td>\n",
       "      <td>2</td>\n",
       "      <td>1</td>\n",
       "      <td>1</td>\n",
       "      <td>0</td>\n",
       "      <td>1.00</td>\n",
       "      <td>1.000000</td>\n",
       "      <td>1.000000</td>\n",
       "      <td>1.437500</td>\n",
       "      <td>0</td>\n",
       "    </tr>\n",
       "    <tr>\n",
       "      <th>...</th>\n",
       "      <td>...</td>\n",
       "      <td>...</td>\n",
       "      <td>...</td>\n",
       "      <td>...</td>\n",
       "      <td>...</td>\n",
       "      <td>...</td>\n",
       "      <td>...</td>\n",
       "      <td>...</td>\n",
       "      <td>...</td>\n",
       "      <td>...</td>\n",
       "    </tr>\n",
       "    <tr>\n",
       "      <th>1814</th>\n",
       "      <td>2</td>\n",
       "      <td>1</td>\n",
       "      <td>0</td>\n",
       "      <td>0</td>\n",
       "      <td>0</td>\n",
       "      <td>0.98</td>\n",
       "      <td>7.666667</td>\n",
       "      <td>8.000000</td>\n",
       "      <td>7.961636</td>\n",
       "      <td>10</td>\n",
       "    </tr>\n",
       "    <tr>\n",
       "      <th>1815</th>\n",
       "      <td>3</td>\n",
       "      <td>1</td>\n",
       "      <td>0</td>\n",
       "      <td>0</td>\n",
       "      <td>0</td>\n",
       "      <td>0.98</td>\n",
       "      <td>6.000000</td>\n",
       "      <td>5.666667</td>\n",
       "      <td>5.480818</td>\n",
       "      <td>3</td>\n",
       "    </tr>\n",
       "    <tr>\n",
       "      <th>1816</th>\n",
       "      <td>4</td>\n",
       "      <td>1</td>\n",
       "      <td>0</td>\n",
       "      <td>0</td>\n",
       "      <td>0</td>\n",
       "      <td>0.98</td>\n",
       "      <td>5.333333</td>\n",
       "      <td>4.166667</td>\n",
       "      <td>4.240409</td>\n",
       "      <td>3</td>\n",
       "    </tr>\n",
       "    <tr>\n",
       "      <th>1817</th>\n",
       "      <td>5</td>\n",
       "      <td>1</td>\n",
       "      <td>0</td>\n",
       "      <td>0</td>\n",
       "      <td>0</td>\n",
       "      <td>0.98</td>\n",
       "      <td>7.000000</td>\n",
       "      <td>9.000000</td>\n",
       "      <td>9.620205</td>\n",
       "      <td>15</td>\n",
       "    </tr>\n",
       "    <tr>\n",
       "      <th>1818</th>\n",
       "      <td>6</td>\n",
       "      <td>1</td>\n",
       "      <td>0</td>\n",
       "      <td>0</td>\n",
       "      <td>0</td>\n",
       "      <td>0.98</td>\n",
       "      <td>7.333333</td>\n",
       "      <td>7.500000</td>\n",
       "      <td>6.810102</td>\n",
       "      <td>4</td>\n",
       "    </tr>\n",
       "  </tbody>\n",
       "</table>\n",
       "<p>1819 rows × 10 columns</p>\n",
       "</div>"
      ],
      "text/plain": [
       "      wday  month  CASHBACK_STORE_1  CASHBACK_STORE_2  CASHBACK_STORE_3  \\\n",
       "0        1      1                 0                 0                 0   \n",
       "1        2      1                 0                 0                 0   \n",
       "2        3      1                 0                 0                 0   \n",
       "3        4      2                 0                 1                 1   \n",
       "4        5      2                 1                 1                 0   \n",
       "...    ...    ...               ...               ...               ...   \n",
       "1814     2      1                 0                 0                 0   \n",
       "1815     3      1                 0                 0                 0   \n",
       "1816     4      1                 0                 0                 0   \n",
       "1817     5      1                 0                 0                 0   \n",
       "1818     6      1                 0                 0                 0   \n",
       "\n",
       "      sell_price  cnt_SMA_3  cnt_WMA_3  cnt_EMA_3  cnt  \n",
       "0           1.00        NaN        NaN   3.000000    3  \n",
       "1           1.00        NaN        NaN   5.500000    8  \n",
       "2           1.00   3.666667   3.166667   2.750000    0  \n",
       "3           1.00   3.666667   2.833333   2.875000    3  \n",
       "4           1.00   1.000000   1.000000   1.437500    0  \n",
       "...          ...        ...        ...        ...  ...  \n",
       "1814        0.98   7.666667   8.000000   7.961636   10  \n",
       "1815        0.98   6.000000   5.666667   5.480818    3  \n",
       "1816        0.98   5.333333   4.166667   4.240409    3  \n",
       "1817        0.98   7.000000   9.000000   9.620205   15  \n",
       "1818        0.98   7.333333   7.500000   6.810102    4  \n",
       "\n",
       "[1819 rows x 10 columns]"
      ]
     },
     "execution_count": 14,
     "metadata": {},
     "output_type": "execute_result"
    }
   ],
   "source": [
    "df[list_for_lags]"
   ]
  },
  {
   "cell_type": "code",
   "execution_count": 15,
   "metadata": {},
   "outputs": [],
   "source": [
    "X = create_lag_features(df, list_for_lags, 1, 3)"
   ]
  },
  {
   "cell_type": "code",
   "execution_count": 16,
   "metadata": {},
   "outputs": [],
   "source": [
    "# добавим дату\n",
    "X['date'] = df['date']"
   ]
  },
  {
   "cell_type": "code",
   "execution_count": 17,
   "metadata": {},
   "outputs": [],
   "source": [
    "y = df['cnt'] + 1 # чтобы убрать нули, иначе MAPE улетит в космос. Далее вычтем 1 для прогноза"
   ]
  },
  {
   "cell_type": "code",
   "execution_count": 18,
   "metadata": {},
   "outputs": [],
   "source": [
    "## моделируем \n",
    "\n",
    "from Tools import *"
   ]
  },
  {
   "cell_type": "code",
   "execution_count": 19,
   "metadata": {},
   "outputs": [],
   "source": [
    "# Задаем значение для генератора случайных чисел\n",
    "seed_value = 23\n",
    "np.random.seed(seed_value)"
   ]
  },
  {
   "cell_type": "code",
   "execution_count": 20,
   "metadata": {},
   "outputs": [],
   "source": [
    "X['date'] = pd.to_datetime(X['date'])"
   ]
  },
  {
   "cell_type": "code",
   "execution_count": 21,
   "metadata": {},
   "outputs": [
    {
     "name": "stdout",
     "output_type": "stream",
     "text": [
      "1\n",
      "треин мин 2014-09-24 00:00:00 треин макс 2015-09-23 00:00:00 shape (365, 32)\n",
      "тест мин 2015-09-24 00:00:00 тест макс 2015-10-23 00:00:00 shape (30, 32)\n",
      "2\n",
      "треин мин 2014-10-24 00:00:00 треин макс 2015-10-23 00:00:00 shape (365, 32)\n",
      "тест мин 2015-10-24 00:00:00 тест макс 2015-11-22 00:00:00 shape (30, 32)\n",
      "3\n",
      "треин мин 2014-11-23 00:00:00 треин макс 2015-11-22 00:00:00 shape (365, 32)\n",
      "тест мин 2015-11-23 00:00:00 тест макс 2015-12-22 00:00:00 shape (30, 32)\n",
      "4\n",
      "треин мин 2014-12-23 00:00:00 треин макс 2015-12-22 00:00:00 shape (365, 32)\n",
      "тест мин 2015-12-23 00:00:00 тест макс 2016-01-21 00:00:00 shape (30, 32)\n"
     ]
    }
   ],
   "source": [
    "# creating cross validator\n",
    "cv_datetime = DateTimeSeriesSplit(window = 365, n_splits= 4, test_size = 30, margin=0)\n",
    "group_dt = X['date']\n",
    "\n",
    "## get parametres from train and test for each fold\n",
    "for fold, (train_idx, val_idx) in enumerate(cv_datetime.split(X, groups=group_dt), 1):\n",
    "    print(fold)\n",
    "    train, test = X.iloc[train_idx], X.iloc[val_idx]\n",
    "    print(f'треин мин {train.date.min()} треин макс {train.date.max()} shape {train.shape}')\n",
    "    print(f'тест мин {test.date.min()} тест макс {test.date.max()} shape {test.shape}')"
   ]
  },
  {
   "cell_type": "code",
   "execution_count": 22,
   "metadata": {},
   "outputs": [],
   "source": [
    "features = [i for i in X.columns]\n",
    "features.remove('date')\n",
    "features.remove('index_time')"
   ]
  },
  {
   "cell_type": "code",
   "execution_count": 23,
   "metadata": {},
   "outputs": [
    {
     "data": {
      "text/plain": [
       "['wday_lag_1',\n",
       " 'month_lag_1',\n",
       " 'CASHBACK_STORE_1_lag_1',\n",
       " 'CASHBACK_STORE_2_lag_1',\n",
       " 'CASHBACK_STORE_3_lag_1',\n",
       " 'sell_price_lag_1',\n",
       " 'cnt_SMA_3_lag_1',\n",
       " 'cnt_WMA_3_lag_1',\n",
       " 'cnt_EMA_3_lag_1',\n",
       " 'cnt_lag_1',\n",
       " 'wday_lag_2',\n",
       " 'month_lag_2',\n",
       " 'CASHBACK_STORE_1_lag_2',\n",
       " 'CASHBACK_STORE_2_lag_2',\n",
       " 'CASHBACK_STORE_3_lag_2',\n",
       " 'sell_price_lag_2',\n",
       " 'cnt_SMA_3_lag_2',\n",
       " 'cnt_WMA_3_lag_2',\n",
       " 'cnt_EMA_3_lag_2',\n",
       " 'cnt_lag_2',\n",
       " 'wday_lag_3',\n",
       " 'month_lag_3',\n",
       " 'CASHBACK_STORE_1_lag_3',\n",
       " 'CASHBACK_STORE_2_lag_3',\n",
       " 'CASHBACK_STORE_3_lag_3',\n",
       " 'sell_price_lag_3',\n",
       " 'cnt_SMA_3_lag_3',\n",
       " 'cnt_WMA_3_lag_3',\n",
       " 'cnt_EMA_3_lag_3',\n",
       " 'cnt_lag_3']"
      ]
     },
     "execution_count": 23,
     "metadata": {},
     "output_type": "execute_result"
    }
   ],
   "source": [
    "features"
   ]
  },
  {
   "cell_type": "code",
   "execution_count": 24,
   "metadata": {},
   "outputs": [],
   "source": [
    "# create model for selector\n",
    "from lightgbm import LGBMRegressor\n",
    "model = LGBMRegressor(max_depth=3, verbosity = -1)\n",
    "\n",
    "# create list from which we will take vars for model creating\n",
    "list_of_vars = features.copy()"
   ]
  },
  {
   "cell_type": "code",
   "execution_count": 25,
   "metadata": {},
   "outputs": [],
   "source": [
    "# import metrics for var selection\n",
    "from sklearn.metrics import mean_absolute_percentage_error as MAPE\n",
    "\n",
    "# create selector\n",
    "selector1 = Kraken(model, cv_datetime, MAPE, 'exp1')"
   ]
  },
  {
   "cell_type": "code",
   "execution_count": 26,
   "metadata": {},
   "outputs": [
    {
     "name": "stderr",
     "output_type": "stream",
     "text": [
      "Could not find the number of physical cores for the following reason:\n",
      "found 0 physical cores < 1\n",
      "Returning the number of logical cores instead. You can silence this warning by setting LOKY_MAX_CPU_COUNT to the number of cores you want to use.\n",
      "  File \"c:\\Users\\vitya\\OneDrive\\Рабочий стол\\venvs\\hardml\\lib\\site-packages\\joblib\\externals\\loky\\backend\\context.py\", line 245, in _count_physical_cores\n",
      "    raise ValueError(\n"
     ]
    },
    {
     "data": {
      "text/plain": [
       "{'cnt_EMA_3_lag_1': 1,\n",
       " 'cnt_EMA_3_lag_3': 2,\n",
       " 'cnt_SMA_3_lag_3': 3,\n",
       " 'wday_lag_2': 4,\n",
       " 'month_lag_3': 5,\n",
       " 'cnt_WMA_3_lag_1': 6,\n",
       " 'wday_lag_1': 7,\n",
       " 'cnt_WMA_3_lag_3': 8,\n",
       " 'cnt_SMA_3_lag_2': 9,\n",
       " 'cnt_SMA_3_lag_1': 10,\n",
       " 'month_lag_1': 11,\n",
       " 'cnt_EMA_3_lag_2': 12,\n",
       " 'cnt_lag_3': 13,\n",
       " 'cnt_lag_1': 14,\n",
       " 'cnt_WMA_3_lag_2': 15,\n",
       " 'wday_lag_3': 16,\n",
       " 'month_lag_2': 17,\n",
       " 'cnt_lag_2': 18,\n",
       " 'CASHBACK_STORE_3_lag_3': 19,\n",
       " 'CASHBACK_STORE_1_lag_2': 20,\n",
       " 'CASHBACK_STORE_3_lag_2': 21,\n",
       " 'CASHBACK_STORE_1_lag_1': 22,\n",
       " 'CASHBACK_STORE_2_lag_2': 23,\n",
       " 'CASHBACK_STORE_1_lag_3': 24,\n",
       " 'CASHBACK_STORE_2_lag_1': 25,\n",
       " 'CASHBACK_STORE_2_lag_3': 26,\n",
       " 'CASHBACK_STORE_3_lag_1': 27,\n",
       " 'sell_price_lag_1': 28,\n",
       " 'sell_price_lag_2': 29,\n",
       " 'sell_price_lag_3': 30}"
      ]
     },
     "execution_count": 26,
     "metadata": {},
     "output_type": "execute_result"
    }
   ],
   "source": [
    "# get rank dict from vars\n",
    "selector1.get_rank_dict(X, y, list_of_vars, group_dt)\n",
    " \n",
    "# get ranked dict in descending order of abs shap value (самые сильные фичи по убыванию предсказательной силы)\n",
    "selector1.rank_dict"
   ]
  },
  {
   "cell_type": "code",
   "execution_count": 27,
   "metadata": {},
   "outputs": [
    {
     "name": "stdout",
     "output_type": "stream",
     "text": [
      "запуск первого шага\n",
      "new var_for_add ! cnt_EMA_3_lag_1\n",
      "new var_for_add ! wday_lag_2\n",
      "едем дальше\n",
      "в итоге получили список ['wday_lag_2']\n",
      "запуск первого шага\n",
      "new var_for_add ! CASHBACK_STORE_2_lag_3\n",
      "едем дальше\n",
      "в итоге получили список ['wday_lag_2', 'CASHBACK_STORE_2_lag_3']\n",
      "запуск первого шага\n",
      "new var_for_add ! wday_lag_1\n",
      "едем дальше\n",
      "в итоге получили список ['wday_lag_2', 'CASHBACK_STORE_2_lag_3', 'wday_lag_1']\n",
      "запуск первого шага\n",
      "new var_for_add ! CASHBACK_STORE_2_lag_2\n",
      "едем дальше\n",
      "в итоге получили список ['wday_lag_2', 'CASHBACK_STORE_2_lag_3', 'wday_lag_1', 'CASHBACK_STORE_2_lag_2']\n",
      "запуск первого шага\n",
      "new var_for_add ! wday_lag_3\n",
      "едем дальше\n",
      "в итоге получили список ['wday_lag_2', 'CASHBACK_STORE_2_lag_3', 'wday_lag_1', 'CASHBACK_STORE_2_lag_2', 'wday_lag_3']\n",
      "запуск первого шага\n",
      "new var_for_add ! CASHBACK_STORE_2_lag_1\n",
      "едем дальше\n",
      "в итоге получили список ['wday_lag_2', 'CASHBACK_STORE_2_lag_3', 'wday_lag_1', 'CASHBACK_STORE_2_lag_2', 'wday_lag_3', 'CASHBACK_STORE_2_lag_1']\n",
      "запуск первого шага\n",
      "мы сошлись\n",
      "['wday_lag_2', 'CASHBACK_STORE_2_lag_3', 'wday_lag_1', 'CASHBACK_STORE_2_lag_2', 'wday_lag_3', 'CASHBACK_STORE_2_lag_1']\n",
      "0.506\n"
     ]
    },
    {
     "data": {
      "text/plain": [
       "['wday_lag_2',\n",
       " 'CASHBACK_STORE_2_lag_3',\n",
       " 'wday_lag_1',\n",
       " 'CASHBACK_STORE_2_lag_2',\n",
       " 'wday_lag_3',\n",
       " 'CASHBACK_STORE_2_lag_1']"
      ]
     },
     "execution_count": 27,
     "metadata": {},
     "output_type": "execute_result"
    }
   ],
   "source": [
    "## get vars\n",
    "vars_final = selector1.get_vars(X, y, early_stopping_rounds = 30, group_dt = group_dt); vars_final"
   ]
  },
  {
   "cell_type": "code",
   "execution_count": 28,
   "metadata": {},
   "outputs": [
    {
     "data": {
      "text/plain": [
       "1819"
      ]
     },
     "execution_count": 28,
     "metadata": {},
     "output_type": "execute_result"
    }
   ],
   "source": [
    "# обучим базовую модель на полученных фичах\n",
    "# для обучения возьмем последние - 30 дней данные, для сравнения с базовыми моделями - последние 30 дней\n",
    "# метрика MAPE\n",
    "\n",
    "df['date_id'].max()"
   ]
  },
  {
   "cell_type": "code",
   "execution_count": 29,
   "metadata": {},
   "outputs": [],
   "source": [
    "X_train = X[df['date_id'] < df['date_id'].max() - 30]\n",
    "y_train = df[df['date_id'] < df['date_id'].max() - 30]['cnt']\n",
    "\n",
    "# oot - out of time\n",
    "X_oot = X[df['date_id'] >= df['date_id'].max() - 30]\n",
    "y_oot = df[df['date_id'] >= df['date_id'].max() - 30]['cnt']"
   ]
  },
  {
   "cell_type": "code",
   "execution_count": 30,
   "metadata": {},
   "outputs": [
    {
     "name": "stdout",
     "output_type": "stream",
     "text": [
      "2015-12-21 00:00:00 2016-01-21 00:00:00\n"
     ]
    }
   ],
   "source": [
    "print(X_train.date.max(), X_oot.date.max())"
   ]
  },
  {
   "cell_type": "code",
   "execution_count": 31,
   "metadata": {},
   "outputs": [
    {
     "data": {
      "text/plain": [
       "LGBMRegressor(max_depth=3, verbosity=-1)"
      ]
     },
     "execution_count": 31,
     "metadata": {},
     "output_type": "execute_result"
    }
   ],
   "source": [
    "model.fit(X_train[vars_final], y_train)"
   ]
  },
  {
   "cell_type": "code",
   "execution_count": 32,
   "metadata": {},
   "outputs": [
    {
     "name": "stderr",
     "output_type": "stream",
     "text": [
      "\n",
      "A value is trying to be set on a copy of a slice from a DataFrame.\n",
      "Try using .loc[row_indexer,col_indexer] = value instead\n",
      "\n",
      "See the caveats in the documentation: https://pandas.pydata.org/pandas-docs/stable/user_guide/indexing.html#returning-a-view-versus-a-copy\n"
     ]
    }
   ],
   "source": [
    "X_oot['pred'] = model.predict(X_oot[vars_final]) - 1"
   ]
  },
  {
   "cell_type": "code",
   "execution_count": 33,
   "metadata": {},
   "outputs": [
    {
     "data": {
      "image/png": "[encoded data removed]",
      "text/plain": [
       "<Figure size 720x432 with 1 Axes>"
      ]
     },
     "metadata": {
      "needs_background": "light"
     },
     "output_type": "display_data"
    }
   ],
   "source": [
    "\n",
    "# Вызов функции для построения линий с легендой\n",
    "line_plot_with_legend(pd.concat([y_oot,X_oot], axis = 1), variables=['cnt', 'pred', 'cnt_SMA_3_lag_1'])"
   ]
  },
  {
   "cell_type": "code",
   "execution_count": 34,
   "metadata": {},
   "outputs": [
    {
     "name": "stderr",
     "output_type": "stream",
     "text": [
      "\n",
      "A value is trying to be set on a copy of a slice from a DataFrame.\n",
      "Try using .loc[row_indexer,col_indexer] = value instead\n",
      "\n",
      "See the caveats in the documentation: https://pandas.pydata.org/pandas-docs/stable/user_guide/indexing.html#returning-a-view-versus-a-copy\n"
     ]
    }
   ],
   "source": [
    "# возьмем рандомные 100 строк и сделаем среднюю нашим константным прогнозом\n",
    "X_oot['constant'] = df.sample(100)['cnt'].mean()"
   ]
  },
  {
   "cell_type": "code",
   "execution_count": 35,
   "metadata": {},
   "outputs": [
    {
     "data": {
      "text/html": [
       "<div>\n",
       "<style scoped>\n",
       "    .dataframe tbody tr th:only-of-type {\n",
       "        vertical-align: middle;\n",
       "    }\n",
       "\n",
       "    .dataframe tbody tr th {\n",
       "        vertical-align: top;\n",
       "    }\n",
       "\n",
       "    .dataframe thead th {\n",
       "        text-align: right;\n",
       "    }\n",
       "</style>\n",
       "<table border=\"1\" class=\"dataframe\">\n",
       "  <thead>\n",
       "    <tr style=\"text-align: right;\">\n",
       "      <th></th>\n",
       "      <th>Prediction</th>\n",
       "      <th>MAPE</th>\n",
       "    </tr>\n",
       "  </thead>\n",
       "  <tbody>\n",
       "    <tr>\n",
       "      <th>0</th>\n",
       "      <td>pred</td>\n",
       "      <td>56.047895</td>\n",
       "    </tr>\n",
       "    <tr>\n",
       "      <th>1</th>\n",
       "      <td>cnt_SMA_3_lag_1</td>\n",
       "      <td>91.761639</td>\n",
       "    </tr>\n",
       "    <tr>\n",
       "      <th>2</th>\n",
       "      <td>cnt_lag_1</td>\n",
       "      <td>89.430629</td>\n",
       "    </tr>\n",
       "    <tr>\n",
       "      <th>3</th>\n",
       "      <td>constant</td>\n",
       "      <td>63.280104</td>\n",
       "    </tr>\n",
       "  </tbody>\n",
       "</table>\n",
       "</div>"
      ],
      "text/plain": [
       "        Prediction       MAPE\n",
       "0             pred  56.047895\n",
       "1  cnt_SMA_3_lag_1  91.761639\n",
       "2        cnt_lag_1  89.430629\n",
       "3         constant  63.280104"
      ]
     },
     "execution_count": 35,
     "metadata": {},
     "output_type": "execute_result"
    }
   ],
   "source": [
    "result = calculate_mape(pd.concat([y_oot,X_oot], axis = 1), target_col='cnt', predictions_list=['pred', 'cnt_SMA_3_lag_1', 'cnt_lag_1', 'constant'], add= 1)\n",
    "result"
   ]
  }
 ],
 "metadata": {
  "kernelspec": {
   "display_name": "alfa_bank",
   "language": "python",
   "name": "python3"
  },
  "language_info": {
   "codemirror_mode": {
    "name": "ipython",
    "version": 3
   },
   "file_extension": ".py",
   "mimetype": "text/x-python",
   "name": "python",
   "nbconvert_exporter": "python",
   "pygments_lexer": "ipython3",
   "version": "3.10.7"
  }
 },
 "nbformat": 4,
 "nbformat_minor": 2
}
